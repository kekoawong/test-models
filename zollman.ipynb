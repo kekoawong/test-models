{
  "nbformat": 4,
  "nbformat_minor": 0,
  "metadata": {
    "colab": {
      "provenance": []
    },
    "kernelspec": {
      "name": "python3",
      "display_name": "Python 3"
    },
    "language_info": {
      "name": "python"
    }
  },
  "cells": [
    {
      "cell_type": "markdown",
      "source": [
        "### Import libraries and define node class"
      ],
      "metadata": {
        "id": "aOyVXgmIrpaz"
      }
    },
    {
      "cell_type": "code",
      "execution_count": 19,
      "metadata": {
        "id": "rw7IXc3SZdqM"
      },
      "outputs": [],
      "source": [
        "import networkx as nx\n",
        "import random\n",
        "import statistics\n",
        "\n",
        "class ZollmanNode:\n",
        "    def __init__(self, beliefProb, pEH=None):\n",
        "        self.beliefProb = beliefProb\n",
        "        self.pEH = pEH"
      ]
    },
    {
      "cell_type": "markdown",
      "source": [
        "### Define Function to Display Graph"
      ],
      "metadata": {
        "id": "XFlrGia6v4ED"
      }
    },
    {
      "cell_type": "code",
      "source": [
        "import plotly.graph_objects as go\n",
        "\n",
        "def plot_network(graph):\n",
        "    # Convert NetworkX graph to Plotly graph object\n",
        "    pos = nx.spring_layout(graph)  # positions for all nodes\n",
        "\n",
        "    # Create edges\n",
        "    edge_x = []\n",
        "    edge_y = []\n",
        "    for edge in graph.edges():\n",
        "        x0, y0 = pos[edge[0]]\n",
        "        x1, y1 = pos[edge[1]]\n",
        "        edge_x.append(x0)\n",
        "        edge_x.append(x1)\n",
        "        edge_x.append(None)\n",
        "        edge_y.append(y0)\n",
        "        edge_y.append(y1)\n",
        "        edge_y.append(None)\n",
        "\n",
        "    # Create nodes\n",
        "    node_x = []\n",
        "    node_y = []\n",
        "    node_text = []\n",
        "    for node in graph.nodes(data=True):\n",
        "        x, y = pos[node[0]]\n",
        "        node_x.append(x)\n",
        "        node_y.append(y)\n",
        "        node_text.append(node[0])\n",
        "\n",
        "    # Create node trace\n",
        "    node_trace = go.Scatter(\n",
        "        x=node_x, y=node_y,\n",
        "        mode='markers+text',\n",
        "        text=node_text,\n",
        "        marker=dict(\n",
        "            size=10,\n",
        "            color=[],\n",
        "        ),\n",
        "        textposition=\"top center\"\n",
        "    )\n",
        "\n",
        "    # Create edge trace\n",
        "    edge_trace = go.Scatter(\n",
        "        x=edge_x, y=edge_y,\n",
        "        mode='lines',\n",
        "        line=dict(width=0.5, color='#888'),\n",
        "        hoverinfo='none'\n",
        "    )\n",
        "\n",
        "    # Create figure\n",
        "    fig = go.Figure(data=[edge_trace, node_trace],\n",
        "                    layout=go.Layout(\n",
        "                        title='Interactive Network Visualization',\n",
        "                        titlefont_size=16,\n",
        "                        showlegend=False,\n",
        "                        hovermode='closest',\n",
        "                        margin=dict(b=20, l=5, r=5, t=40),\n",
        "                        annotations=[dict(\n",
        "                            text=\"\",\n",
        "                            showarrow=False,\n",
        "                            xref=\"paper\", yref=\"paper\",\n",
        "                            x=0.005, y=-0.002)],\n",
        "                        xaxis=dict(showgrid=False, zeroline=False, showticklabels=False),\n",
        "                        yaxis=dict(showgrid=False, zeroline=False, showticklabels=False))\n",
        "                    )\n",
        "\n",
        "    # Display the interactive graph directly in the notebook\n",
        "    fig.show()"
      ],
      "metadata": {
        "id": "kidtS-0gzunQ"
      },
      "execution_count": 53,
      "outputs": []
    },
    {
      "cell_type": "markdown",
      "source": [
        "### Define graph initialization function"
      ],
      "metadata": {
        "id": "NiiffS-grwot"
      }
    },
    {
      "cell_type": "code",
      "source": [
        "def initialize_graph(type: str, numberNodes: int = 10):\n",
        "    graph = nx.Graph()\n",
        "    if type == 'circle':\n",
        "        for index in range(numberNodes):\n",
        "            initial_data = {'group': index % 4, 'beliefProb': random.random(), 'pEH': None}\n",
        "            graph.add_node(f\"scientist-{index}\", **initial_data)\n",
        "            if index > 0:\n",
        "                graph.add_edge(f\"scientist-{index - 1}\", f\"scientist-{index}\")\n",
        "        graph.add_edge(f\"scientist-{numberNodes - 1}\", \"scientist-0\")\n",
        "    elif type == 'wheel':\n",
        "        for index in range(numberNodes - 1):\n",
        "            initial_data = {'group': index % 4, 'beliefProb': random.random(), 'pEH': None}\n",
        "            graph.add_node(f\"scientist-{index}\", **initial_data)\n",
        "            if index > 0:\n",
        "                graph.add_edge(f\"scientist-{index - 1}\", f\"scientist-{index}\")\n",
        "        graph.add_edge(f\"scientist-{numberNodes - 2}\", \"scientist-0\")\n",
        "        graph.add_node(f\"scientist-{numberNodes - 1}\", group=1, beliefProb=random.random(), pEH=None)\n",
        "        for node in graph.nodes:\n",
        "            if node != f\"scientist-{numberNodes - 1}\":\n",
        "                graph.add_edge(node, f\"scientist-{numberNodes - 1}\")\n",
        "    else:\n",
        "        for index in range(numberNodes):\n",
        "            initial_data = {'group': index % 4, 'beliefProb': random.random(), 'pEH': None}\n",
        "            graph.add_node(f\"scientist-{index}\", **initial_data)\n",
        "        for i in range(numberNodes):\n",
        "            for j in range(i + 1, numberNodes):\n",
        "                if i != j:\n",
        "                    graph.add_edge(f\"scientist-{i}\", f\"scientist-{j}\")\n",
        "    return graph"
      ],
      "metadata": {
        "id": "O1w230kbrvc0"
      },
      "execution_count": 20,
      "outputs": []
    },
    {
      "cell_type": "markdown",
      "source": [],
      "metadata": {
        "id": "5ozqEShNuq6L"
      }
    },
    {
      "cell_type": "markdown",
      "source": [
        "### Define timestep function and helper functions"
      ],
      "metadata": {
        "id": "cHw7R0SysCYS"
      }
    },
    {
      "cell_type": "code",
      "source": [
        "def run_experiment(world):\n",
        "    return random.uniform(0.3, 0.8) if world == 'higher' else random.uniform(0.2, 0.7)\n",
        "\n",
        "def calculate_posterior(pH, pEH):\n",
        "    pE = pEH * pH + (1 - pEH) * (1 - pH)\n",
        "    return (pEH * pH) / pE\n",
        "\n",
        "def timestep(graph):\n",
        "    nodes = graph.nodes(data=True)\n",
        "    for node, data in nodes:\n",
        "        data['pEH'] = run_experiment('higher') if data['beliefProb'] > 0.5 else None\n",
        "        data['beliefProb'] = calculate_posterior(data['beliefProb'], data['pEH']) if data['pEH'] is not None else data['beliefProb']\n",
        "\n",
        "    posteriors = []\n",
        "    for node, data in nodes:\n",
        "        neighbors = graph.neighbors(node)\n",
        "        for neighbor in neighbors:\n",
        "            neighbor_data = graph.nodes[neighbor]\n",
        "            if neighbor_data['pEH'] is not None:\n",
        "                data['beliefProb'] = calculate_posterior(data['beliefProb'], neighbor_data['pEH'])\n",
        "        data['group'] = sum(data['beliefProb'] > x for x in [0, 0.4, 0.6, 1])\n",
        "        posteriors.append(data['beliefProb'])\n",
        "    return posteriors"
      ],
      "metadata": {
        "id": "JwqUqPgosGzN"
      },
      "execution_count": 21,
      "outputs": []
    },
    {
      "cell_type": "markdown",
      "source": [
        "### Define Function to Run Simulation"
      ],
      "metadata": {
        "id": "j9I38CQBsNPu"
      }
    },
    {
      "cell_type": "code",
      "source": [
        "def run_simulation(graph, num_timesteps=1):\n",
        "    median_posteriors = []\n",
        "    for _ in range(num_timesteps):\n",
        "        posteriors = timestep(graph)\n",
        "        median_posterior = statistics.median(posteriors)\n",
        "        median_posteriors.append(median_posterior if median_posterior is not None else 0)\n",
        "    return median_posteriors"
      ],
      "metadata": {
        "id": "F-NCFu86sQFJ"
      },
      "execution_count": 22,
      "outputs": []
    },
    {
      "cell_type": "markdown",
      "source": [
        "### Run Simulation and Display Results"
      ],
      "metadata": {
        "id": "njK4EG8-sSnF"
      }
    },
    {
      "cell_type": "code",
      "source": [
        "# Example usage:\n",
        "graph = initialize_graph('circle', numberNodes=10)\n",
        "run_simulation(graph, num_timesteps=5)\n",
        "plot_network(graph)"
      ],
      "metadata": {
        "colab": {
          "base_uri": "https://localhost:8080/",
          "height": 542
        },
        "id": "OCgcfCnjsVa-",
        "outputId": "3cd88408-9aee-41fd-b5d8-e493e4a9944f"
      },
      "execution_count": 54,
      "outputs": [
        {
          "output_type": "display_data",
          "data": {
            "text/html": [
              "<html>\n",
              "<head><meta charset=\"utf-8\" /></head>\n",
              "<body>\n",
              "    <div>            <script src=\"https://cdnjs.cloudflare.com/ajax/libs/mathjax/2.7.5/MathJax.js?config=TeX-AMS-MML_SVG\"></script><script type=\"text/javascript\">if (window.MathJax && window.MathJax.Hub && window.MathJax.Hub.Config) {window.MathJax.Hub.Config({SVG: {font: \"STIX-Web\"}});}</script>                <script type=\"text/javascript\">window.PlotlyConfig = {MathJaxConfig: 'local'};</script>\n",
              "        <script charset=\"utf-8\" src=\"https://cdn.plot.ly/plotly-2.24.1.min.js\"></script>                <div id=\"f837de46-952e-4b56-a01b-580718634436\" class=\"plotly-graph-div\" style=\"height:525px; width:100%;\"></div>            <script type=\"text/javascript\">                                    window.PLOTLYENV=window.PLOTLYENV || {};                                    if (document.getElementById(\"f837de46-952e-4b56-a01b-580718634436\")) {                    Plotly.newPlot(                        \"f837de46-952e-4b56-a01b-580718634436\",                        [{\"hoverinfo\":\"none\",\"line\":{\"color\":\"#888\",\"width\":0.5},\"mode\":\"lines\",\"x\":[-0.9969522556035815,-0.7741664791729186,null,-0.9969522556035815,-0.8404980117801664,null,-0.7741664791729186,-0.26557908564552607,null,-0.26557908564552607,0.34668430287467583,null,0.34668430287467583,0.8386619204895521,null,0.8386619204895521,1.0,null,1.0,0.7768291346900282,null,0.7768291346900282,0.26547226130062107,null,0.26547226130062107,-0.3504517871526852,null,-0.3504517871526852,-0.8404980117801664,null],\"y\":[0.0015993994428769897,-0.5706688352682303,null,0.0015993994428769897,0.5857818427736561,null,-0.5706688352682303,-0.9301482628110843,null,-0.9301482628110843,-0.9428841758145605,null,-0.9428841758145605,-0.5899250440116284,null,-0.5899250440116284,-0.003153614837169845,null,-0.003153614837169845,0.572380615088745,null,0.572380615088745,0.9315551680218244,null,0.9315551680218244,0.9454629074155716,null,0.9454629074155716,0.5857818427736561,null],\"type\":\"scatter\"},{\"marker\":{\"color\":[],\"size\":10},\"mode\":\"markers+text\",\"text\":[\"scientist-0\",\"scientist-1\",\"scientist-2\",\"scientist-3\",\"scientist-4\",\"scientist-5\",\"scientist-6\",\"scientist-7\",\"scientist-8\",\"scientist-9\"],\"textposition\":\"top center\",\"x\":[-0.9969522556035815,-0.7741664791729186,-0.26557908564552607,0.34668430287467583,0.8386619204895521,1.0,0.7768291346900282,0.26547226130062107,-0.3504517871526852,-0.8404980117801664],\"y\":[0.0015993994428769897,-0.5706688352682303,-0.9301482628110843,-0.9428841758145605,-0.5899250440116284,-0.003153614837169845,0.572380615088745,0.9315551680218244,0.9454629074155716,0.5857818427736561],\"type\":\"scatter\"}],                        {\"annotations\":[{\"showarrow\":false,\"text\":\"\",\"x\":0.005,\"xref\":\"paper\",\"y\":-0.002,\"yref\":\"paper\"}],\"hovermode\":\"closest\",\"margin\":{\"b\":20,\"l\":5,\"r\":5,\"t\":40},\"showlegend\":false,\"title\":{\"font\":{\"size\":16},\"text\":\"Interactive Network Visualization\"},\"xaxis\":{\"showgrid\":false,\"showticklabels\":false,\"zeroline\":false},\"yaxis\":{\"showgrid\":false,\"showticklabels\":false,\"zeroline\":false},\"template\":{\"data\":{\"histogram2dcontour\":[{\"type\":\"histogram2dcontour\",\"colorbar\":{\"outlinewidth\":0,\"ticks\":\"\"},\"colorscale\":[[0.0,\"#0d0887\"],[0.1111111111111111,\"#46039f\"],[0.2222222222222222,\"#7201a8\"],[0.3333333333333333,\"#9c179e\"],[0.4444444444444444,\"#bd3786\"],[0.5555555555555556,\"#d8576b\"],[0.6666666666666666,\"#ed7953\"],[0.7777777777777778,\"#fb9f3a\"],[0.8888888888888888,\"#fdca26\"],[1.0,\"#f0f921\"]]}],\"choropleth\":[{\"type\":\"choropleth\",\"colorbar\":{\"outlinewidth\":0,\"ticks\":\"\"}}],\"histogram2d\":[{\"type\":\"histogram2d\",\"colorbar\":{\"outlinewidth\":0,\"ticks\":\"\"},\"colorscale\":[[0.0,\"#0d0887\"],[0.1111111111111111,\"#46039f\"],[0.2222222222222222,\"#7201a8\"],[0.3333333333333333,\"#9c179e\"],[0.4444444444444444,\"#bd3786\"],[0.5555555555555556,\"#d8576b\"],[0.6666666666666666,\"#ed7953\"],[0.7777777777777778,\"#fb9f3a\"],[0.8888888888888888,\"#fdca26\"],[1.0,\"#f0f921\"]]}],\"heatmap\":[{\"type\":\"heatmap\",\"colorbar\":{\"outlinewidth\":0,\"ticks\":\"\"},\"colorscale\":[[0.0,\"#0d0887\"],[0.1111111111111111,\"#46039f\"],[0.2222222222222222,\"#7201a8\"],[0.3333333333333333,\"#9c179e\"],[0.4444444444444444,\"#bd3786\"],[0.5555555555555556,\"#d8576b\"],[0.6666666666666666,\"#ed7953\"],[0.7777777777777778,\"#fb9f3a\"],[0.8888888888888888,\"#fdca26\"],[1.0,\"#f0f921\"]]}],\"heatmapgl\":[{\"type\":\"heatmapgl\",\"colorbar\":{\"outlinewidth\":0,\"ticks\":\"\"},\"colorscale\":[[0.0,\"#0d0887\"],[0.1111111111111111,\"#46039f\"],[0.2222222222222222,\"#7201a8\"],[0.3333333333333333,\"#9c179e\"],[0.4444444444444444,\"#bd3786\"],[0.5555555555555556,\"#d8576b\"],[0.6666666666666666,\"#ed7953\"],[0.7777777777777778,\"#fb9f3a\"],[0.8888888888888888,\"#fdca26\"],[1.0,\"#f0f921\"]]}],\"contourcarpet\":[{\"type\":\"contourcarpet\",\"colorbar\":{\"outlinewidth\":0,\"ticks\":\"\"}}],\"contour\":[{\"type\":\"contour\",\"colorbar\":{\"outlinewidth\":0,\"ticks\":\"\"},\"colorscale\":[[0.0,\"#0d0887\"],[0.1111111111111111,\"#46039f\"],[0.2222222222222222,\"#7201a8\"],[0.3333333333333333,\"#9c179e\"],[0.4444444444444444,\"#bd3786\"],[0.5555555555555556,\"#d8576b\"],[0.6666666666666666,\"#ed7953\"],[0.7777777777777778,\"#fb9f3a\"],[0.8888888888888888,\"#fdca26\"],[1.0,\"#f0f921\"]]}],\"surface\":[{\"type\":\"surface\",\"colorbar\":{\"outlinewidth\":0,\"ticks\":\"\"},\"colorscale\":[[0.0,\"#0d0887\"],[0.1111111111111111,\"#46039f\"],[0.2222222222222222,\"#7201a8\"],[0.3333333333333333,\"#9c179e\"],[0.4444444444444444,\"#bd3786\"],[0.5555555555555556,\"#d8576b\"],[0.6666666666666666,\"#ed7953\"],[0.7777777777777778,\"#fb9f3a\"],[0.8888888888888888,\"#fdca26\"],[1.0,\"#f0f921\"]]}],\"mesh3d\":[{\"type\":\"mesh3d\",\"colorbar\":{\"outlinewidth\":0,\"ticks\":\"\"}}],\"scatter\":[{\"fillpattern\":{\"fillmode\":\"overlay\",\"size\":10,\"solidity\":0.2},\"type\":\"scatter\"}],\"parcoords\":[{\"type\":\"parcoords\",\"line\":{\"colorbar\":{\"outlinewidth\":0,\"ticks\":\"\"}}}],\"scatterpolargl\":[{\"type\":\"scatterpolargl\",\"marker\":{\"colorbar\":{\"outlinewidth\":0,\"ticks\":\"\"}}}],\"bar\":[{\"error_x\":{\"color\":\"#2a3f5f\"},\"error_y\":{\"color\":\"#2a3f5f\"},\"marker\":{\"line\":{\"color\":\"#E5ECF6\",\"width\":0.5},\"pattern\":{\"fillmode\":\"overlay\",\"size\":10,\"solidity\":0.2}},\"type\":\"bar\"}],\"scattergeo\":[{\"type\":\"scattergeo\",\"marker\":{\"colorbar\":{\"outlinewidth\":0,\"ticks\":\"\"}}}],\"scatterpolar\":[{\"type\":\"scatterpolar\",\"marker\":{\"colorbar\":{\"outlinewidth\":0,\"ticks\":\"\"}}}],\"histogram\":[{\"marker\":{\"pattern\":{\"fillmode\":\"overlay\",\"size\":10,\"solidity\":0.2}},\"type\":\"histogram\"}],\"scattergl\":[{\"type\":\"scattergl\",\"marker\":{\"colorbar\":{\"outlinewidth\":0,\"ticks\":\"\"}}}],\"scatter3d\":[{\"type\":\"scatter3d\",\"line\":{\"colorbar\":{\"outlinewidth\":0,\"ticks\":\"\"}},\"marker\":{\"colorbar\":{\"outlinewidth\":0,\"ticks\":\"\"}}}],\"scattermapbox\":[{\"type\":\"scattermapbox\",\"marker\":{\"colorbar\":{\"outlinewidth\":0,\"ticks\":\"\"}}}],\"scatterternary\":[{\"type\":\"scatterternary\",\"marker\":{\"colorbar\":{\"outlinewidth\":0,\"ticks\":\"\"}}}],\"scattercarpet\":[{\"type\":\"scattercarpet\",\"marker\":{\"colorbar\":{\"outlinewidth\":0,\"ticks\":\"\"}}}],\"carpet\":[{\"aaxis\":{\"endlinecolor\":\"#2a3f5f\",\"gridcolor\":\"white\",\"linecolor\":\"white\",\"minorgridcolor\":\"white\",\"startlinecolor\":\"#2a3f5f\"},\"baxis\":{\"endlinecolor\":\"#2a3f5f\",\"gridcolor\":\"white\",\"linecolor\":\"white\",\"minorgridcolor\":\"white\",\"startlinecolor\":\"#2a3f5f\"},\"type\":\"carpet\"}],\"table\":[{\"cells\":{\"fill\":{\"color\":\"#EBF0F8\"},\"line\":{\"color\":\"white\"}},\"header\":{\"fill\":{\"color\":\"#C8D4E3\"},\"line\":{\"color\":\"white\"}},\"type\":\"table\"}],\"barpolar\":[{\"marker\":{\"line\":{\"color\":\"#E5ECF6\",\"width\":0.5},\"pattern\":{\"fillmode\":\"overlay\",\"size\":10,\"solidity\":0.2}},\"type\":\"barpolar\"}],\"pie\":[{\"automargin\":true,\"type\":\"pie\"}]},\"layout\":{\"autotypenumbers\":\"strict\",\"colorway\":[\"#636efa\",\"#EF553B\",\"#00cc96\",\"#ab63fa\",\"#FFA15A\",\"#19d3f3\",\"#FF6692\",\"#B6E880\",\"#FF97FF\",\"#FECB52\"],\"font\":{\"color\":\"#2a3f5f\"},\"hovermode\":\"closest\",\"hoverlabel\":{\"align\":\"left\"},\"paper_bgcolor\":\"white\",\"plot_bgcolor\":\"#E5ECF6\",\"polar\":{\"bgcolor\":\"#E5ECF6\",\"angularaxis\":{\"gridcolor\":\"white\",\"linecolor\":\"white\",\"ticks\":\"\"},\"radialaxis\":{\"gridcolor\":\"white\",\"linecolor\":\"white\",\"ticks\":\"\"}},\"ternary\":{\"bgcolor\":\"#E5ECF6\",\"aaxis\":{\"gridcolor\":\"white\",\"linecolor\":\"white\",\"ticks\":\"\"},\"baxis\":{\"gridcolor\":\"white\",\"linecolor\":\"white\",\"ticks\":\"\"},\"caxis\":{\"gridcolor\":\"white\",\"linecolor\":\"white\",\"ticks\":\"\"}},\"coloraxis\":{\"colorbar\":{\"outlinewidth\":0,\"ticks\":\"\"}},\"colorscale\":{\"sequential\":[[0.0,\"#0d0887\"],[0.1111111111111111,\"#46039f\"],[0.2222222222222222,\"#7201a8\"],[0.3333333333333333,\"#9c179e\"],[0.4444444444444444,\"#bd3786\"],[0.5555555555555556,\"#d8576b\"],[0.6666666666666666,\"#ed7953\"],[0.7777777777777778,\"#fb9f3a\"],[0.8888888888888888,\"#fdca26\"],[1.0,\"#f0f921\"]],\"sequentialminus\":[[0.0,\"#0d0887\"],[0.1111111111111111,\"#46039f\"],[0.2222222222222222,\"#7201a8\"],[0.3333333333333333,\"#9c179e\"],[0.4444444444444444,\"#bd3786\"],[0.5555555555555556,\"#d8576b\"],[0.6666666666666666,\"#ed7953\"],[0.7777777777777778,\"#fb9f3a\"],[0.8888888888888888,\"#fdca26\"],[1.0,\"#f0f921\"]],\"diverging\":[[0,\"#8e0152\"],[0.1,\"#c51b7d\"],[0.2,\"#de77ae\"],[0.3,\"#f1b6da\"],[0.4,\"#fde0ef\"],[0.5,\"#f7f7f7\"],[0.6,\"#e6f5d0\"],[0.7,\"#b8e186\"],[0.8,\"#7fbc41\"],[0.9,\"#4d9221\"],[1,\"#276419\"]]},\"xaxis\":{\"gridcolor\":\"white\",\"linecolor\":\"white\",\"ticks\":\"\",\"title\":{\"standoff\":15},\"zerolinecolor\":\"white\",\"automargin\":true,\"zerolinewidth\":2},\"yaxis\":{\"gridcolor\":\"white\",\"linecolor\":\"white\",\"ticks\":\"\",\"title\":{\"standoff\":15},\"zerolinecolor\":\"white\",\"automargin\":true,\"zerolinewidth\":2},\"scene\":{\"xaxis\":{\"backgroundcolor\":\"#E5ECF6\",\"gridcolor\":\"white\",\"linecolor\":\"white\",\"showbackground\":true,\"ticks\":\"\",\"zerolinecolor\":\"white\",\"gridwidth\":2},\"yaxis\":{\"backgroundcolor\":\"#E5ECF6\",\"gridcolor\":\"white\",\"linecolor\":\"white\",\"showbackground\":true,\"ticks\":\"\",\"zerolinecolor\":\"white\",\"gridwidth\":2},\"zaxis\":{\"backgroundcolor\":\"#E5ECF6\",\"gridcolor\":\"white\",\"linecolor\":\"white\",\"showbackground\":true,\"ticks\":\"\",\"zerolinecolor\":\"white\",\"gridwidth\":2}},\"shapedefaults\":{\"line\":{\"color\":\"#2a3f5f\"}},\"annotationdefaults\":{\"arrowcolor\":\"#2a3f5f\",\"arrowhead\":0,\"arrowwidth\":1},\"geo\":{\"bgcolor\":\"white\",\"landcolor\":\"#E5ECF6\",\"subunitcolor\":\"white\",\"showland\":true,\"showlakes\":true,\"lakecolor\":\"white\"},\"title\":{\"x\":0.05},\"mapbox\":{\"style\":\"light\"}}}},                        {\"responsive\": true}                    ).then(function(){\n",
              "                            \n",
              "var gd = document.getElementById('f837de46-952e-4b56-a01b-580718634436');\n",
              "var x = new MutationObserver(function (mutations, observer) {{\n",
              "        var display = window.getComputedStyle(gd).display;\n",
              "        if (!display || display === 'none') {{\n",
              "            console.log([gd, 'removed!']);\n",
              "            Plotly.purge(gd);\n",
              "            observer.disconnect();\n",
              "        }}\n",
              "}});\n",
              "\n",
              "// Listen for the removal of the full notebook cells\n",
              "var notebookContainer = gd.closest('#notebook-container');\n",
              "if (notebookContainer) {{\n",
              "    x.observe(notebookContainer, {childList: true});\n",
              "}}\n",
              "\n",
              "// Listen for the clearing of the current output cell\n",
              "var outputEl = gd.closest('.output');\n",
              "if (outputEl) {{\n",
              "    x.observe(outputEl, {childList: true});\n",
              "}}\n",
              "\n",
              "                        })                };                            </script>        </div>\n",
              "</body>\n",
              "</html>"
            ]
          },
          "metadata": {}
        }
      ]
    }
  ]
}