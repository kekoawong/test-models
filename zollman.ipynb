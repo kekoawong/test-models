{
  "cells": [
    {
      "cell_type": "markdown",
      "metadata": {
        "id": "aOyVXgmIrpaz"
      },
      "source": [
        "### Import libraries and define node class"
      ]
    },
    {
      "cell_type": "code",
      "execution_count": 66,
      "metadata": {
        "id": "rw7IXc3SZdqM"
      },
      "outputs": [],
      "source": [
        "import networkx as nx\n",
        "import matplotlib.pyplot as plt\n",
        "import matplotlib.animation as animation\n",
        "import ipywidgets as widgets\n",
        "import random\n",
        "import statistics\n",
        "\n",
        "class ZollmanNode:\n",
        "    def __init__(self, beliefProb, pEH=None):\n",
        "        self.beliefProb = beliefProb\n",
        "        self.pEH = pEH"
      ]
    },
    {
      "cell_type": "code",
      "execution_count": 67,
      "metadata": {},
      "outputs": [],
      "source": [
        "# Create a random graph\n",
        "globalVar = 10\n",
        "graph = nx.erdos_renyi_graph(10, 0.3)\n",
        "\n",
        "\n",
        "# Define the function for one timestep\n",
        "def testing(graph, parameter):\n",
        "    # Update the graph based on the parameter\n",
        "    # This is a placeholder function, you should replace it with your own logic\n",
        "    print(graph, parameter)\n",
        "    pass\n",
        "\n",
        "# Define a function to update the graph based on the parameter value\n",
        "def update_graph(p1, parameter):\n",
        "    testing(graph, parameter)\n",
        "    nx.draw(graph, with_labels=True)\n",
        "    plt.show()\n",
        "\n"
      ]
    },
    {
      "cell_type": "markdown",
      "metadata": {
        "id": "XFlrGia6v4ED"
      },
      "source": [
        "### Define Function to Display Graph"
      ]
    },
    {
      "cell_type": "code",
      "execution_count": null,
      "metadata": {
        "id": "kidtS-0gzunQ"
      },
      "outputs": [],
      "source": []
    },
    {
      "cell_type": "markdown",
      "metadata": {
        "id": "NiiffS-grwot"
      },
      "source": [
        "### Define graph initialization function"
      ]
    },
    {
      "cell_type": "code",
      "execution_count": 68,
      "metadata": {
        "id": "O1w230kbrvc0"
      },
      "outputs": [],
      "source": [
        "def initialize_graph(graphType: str, numNodes: int = 10):\n",
        "    graph = nx.Graph()\n",
        "    if graphType == 'circle':\n",
        "        for index in range(numNodes):\n",
        "            initial_data = {'group': index % 4, 'beliefProb': random.random(), 'pEH': None}\n",
        "            graph.add_node(f\"scientist-{index}\", **initial_data)\n",
        "            if index > 0:\n",
        "                graph.add_edge(f\"scientist-{index - 1}\", f\"scientist-{index}\")\n",
        "        graph.add_edge(f\"scientist-{numNodes - 1}\", \"scientist-0\")\n",
        "    elif graphType == 'wheel':\n",
        "        for index in range(numNodes - 1):\n",
        "            initial_data = {'group': index % 4, 'beliefProb': random.random(), 'pEH': None}\n",
        "            graph.add_node(f\"scientist-{index}\", **initial_data)\n",
        "            if index > 0:\n",
        "                graph.add_edge(f\"scientist-{index - 1}\", f\"scientist-{index}\")\n",
        "        graph.add_edge(f\"scientist-{numNodes - 2}\", \"scientist-0\")\n",
        "        graph.add_node(f\"scientist-{numNodes - 1}\", group=1, beliefProb=random.random(), pEH=None)\n",
        "        for node in graph.nodes:\n",
        "            if node != f\"scientist-{numNodes - 1}\":\n",
        "                graph.add_edge(node, f\"scientist-{numNodes - 1}\")\n",
        "    else:\n",
        "        for index in range(numNodes):\n",
        "            initial_data = {'group': index % 4, 'beliefProb': random.random(), 'pEH': None}\n",
        "            graph.add_node(f\"scientist-{index}\", **initial_data)\n",
        "        for i in range(numNodes):\n",
        "            for j in range(i + 1, numNodes):\n",
        "                if i != j:\n",
        "                    graph.add_edge(f\"scientist-{i}\", f\"scientist-{j}\")\n",
        "    return graph"
      ]
    },
    {
      "cell_type": "markdown",
      "metadata": {
        "id": "5ozqEShNuq6L"
      },
      "source": []
    },
    {
      "cell_type": "markdown",
      "metadata": {
        "id": "cHw7R0SysCYS"
      },
      "source": [
        "### Define timestep function and helper functions"
      ]
    },
    {
      "cell_type": "code",
      "execution_count": 69,
      "metadata": {
        "id": "JwqUqPgosGzN"
      },
      "outputs": [],
      "source": [
        "def run_experiment(world):\n",
        "    return random.uniform(0.3, 0.8) if world == 'higher' else random.uniform(0.2, 0.7)\n",
        "\n",
        "def calculate_posterior(pH, pEH):\n",
        "    pE = pEH * pH + (1 - pEH) * (1 - pH)\n",
        "    return (pEH * pH) / pE\n",
        "\n",
        "def timestep(graph):\n",
        "    nodes = graph.nodes(data=True)\n",
        "    for node, data in nodes:\n",
        "        data['pEH'] = run_experiment('higher') if data['beliefProb'] > 0.5 else None\n",
        "        data['beliefProb'] = calculate_posterior(data['beliefProb'], data['pEH']) if data['pEH'] is not None else data['beliefProb']\n",
        "\n",
        "    posteriors = []\n",
        "    for node, data in nodes:\n",
        "        neighbors = graph.neighbors(node)\n",
        "        for neighbor in neighbors:\n",
        "            neighbor_data = graph.nodes[neighbor]\n",
        "            if neighbor_data['pEH'] is not None:\n",
        "                data['beliefProb'] = calculate_posterior(data['beliefProb'], neighbor_data['pEH'])\n",
        "        data['group'] = sum(data['beliefProb'] > x for x in [0, 0.4, 0.6, 1])\n",
        "        posteriors.append(data['beliefProb'])\n",
        "    return posteriors"
      ]
    },
    {
      "cell_type": "markdown",
      "metadata": {
        "id": "j9I38CQBsNPu"
      },
      "source": [
        "### Define Function to Run Simulation"
      ]
    },
    {
      "cell_type": "code",
      "execution_count": 70,
      "metadata": {
        "id": "F-NCFu86sQFJ"
      },
      "outputs": [],
      "source": [
        "def run_simulation(graph, num_timesteps=1):\n",
        "    median_posteriors = []\n",
        "    for _ in range(num_timesteps):\n",
        "        posteriors = timestep(graph)\n",
        "        median_posterior = statistics.median(posteriors)\n",
        "        median_posteriors.append(median_posterior if median_posterior is not None else 0)\n",
        "        yield median_posteriors"
      ]
    },
    {
      "cell_type": "markdown",
      "metadata": {
        "id": "njK4EG8-sSnF"
      },
      "source": [
        "### Run Simulation and Display Results"
      ]
    },
    {
      "cell_type": "code",
      "execution_count": 73,
      "metadata": {},
      "outputs": [
        {
          "data": {
            "application/vnd.jupyter.widget-view+json": {
              "model_id": "77fc054fd6c24999945aa5cecac8d7c9",
              "version_major": 2,
              "version_minor": 0
            },
            "text/plain": [
              "VBox(children=(Label(value='Number of Nodes:'), BoundedIntText(value=10, max=25, min=2), Select(description='G…"
            ]
          },
          "metadata": {},
          "output_type": "display_data"
        },
        {
          "data": {
            "application/vnd.jupyter.widget-view+json": {
              "model_id": "70d2b5e370904155bfbe6706039f30ec",
              "version_major": 2,
              "version_minor": 0
            },
            "text/plain": [
              "Button(description='Initialize Graph', style=ButtonStyle())"
            ]
          },
          "metadata": {},
          "output_type": "display_data"
        },
        {
          "data": {
            "application/vnd.jupyter.widget-view+json": {
              "model_id": "ec4f9feb9e9c4de78534daaf5b0eb694",
              "version_major": 2,
              "version_minor": 0
            },
            "text/plain": [
              "VBox(children=(Label(value='Number of Timesteps:'), BoundedIntText(value=100, max=10000, min=1)))"
            ]
          },
          "metadata": {},
          "output_type": "display_data"
        },
        {
          "data": {
            "application/vnd.jupyter.widget-view+json": {
              "model_id": "7704d964d53e4af5a340a51155ddcabe",
              "version_major": 2,
              "version_minor": 0
            },
            "text/plain": [
              "Button(description='Run Simulation', disabled=True, style=ButtonStyle())"
            ]
          },
          "metadata": {},
          "output_type": "display_data"
        },
        {
          "data": {
            "image/png": "[encoded data removed]",
            "text/plain": [
              "<Figure size 432x288 with 1 Axes>"
            ]
          },
          "metadata": {},
          "output_type": "display_data"
        }
      ],
      "source": [
        "# Define Parameters\n",
        "numTimesteps = 100 # or do not need this? Just run at a pace\n",
        "newGraph = nx.Graph()\n",
        "numNodes_label = widgets.Label(\"Number of Nodes:\")\n",
        "numNodes = widgets.BoundedIntText(value=10, min=2, max=25, step=1)\n",
        "graphType = widgets.Select(options=['circle', 'wheel', 'complete'], value='circle', description='Graph Type:')\n",
        "custom_button = widgets.Button(description=\"Initialize Graph\")\n",
        "# Group the interactive widgets together using HBox or VBox\n",
        "widget_group = widgets.VBox([numNodes_label, numNodes, graphType])\n",
        "\n",
        "# Define timestep\n",
        "timestepLabel = widgets.Label(\"Number of Timesteps:\")\n",
        "numTimesteps = widgets.BoundedIntText(value=100, min=1, max=10000, step=1)\n",
        "timestepGroup = widgets.VBox([timestepLabel, numTimesteps])\n",
        "start_button = widgets.Button(description=\"Run Simulation\", disabled=True)\n",
        "\n",
        "def onClick(_):\n",
        "    initializedGraph = initialize_graph(numNodes=numNodes.value, graphType=graphType.value)\n",
        "    newGraph.clear()\n",
        "    newGraph.add_nodes_from(initializedGraph.nodes(data=True))\n",
        "    newGraph.add_edges_from(initializedGraph.edges(data=True))\n",
        "    start_button.disabled = False\n",
        "\n",
        "custom_button.on_click(onClick)\n",
        "\n",
        "def onStart(_):\n",
        "    if newGraph.number_of_nodes() < 1:\n",
        "        ValueError(\"No Graph initialized\")\n",
        "    run_simulation(graph=newGraph, num_timesteps=numTimesteps.value)\n",
        "    nx.draw(newGraph, with_labels=True)\n",
        "    plt.show()\n",
        "start_button.on_click(onStart)\n",
        "\n",
        "# Display the custom button and the interactive widgets\n",
        "display(widget_group, custom_button, timestepGroup, start_button)"
      ]
    },
    {
      "cell_type": "code",
      "execution_count": 74,
      "metadata": {
        "colab": {
          "base_uri": "https://localhost:8080/",
          "height": 542
        },
        "id": "OCgcfCnjsVa-",
        "outputId": "3cd88408-9aee-41fd-b5d8-e493e4a9944f"
      },
      "outputs": [
        {
          "data": {
            "text/plain": [
              "<generator object run_simulation at 0x11dec0e40>"
            ]
          },
          "execution_count": 74,
          "metadata": {},
          "output_type": "execute_result"
        }
      ],
      "source": [
        "# Example usage:\n",
        "graph = initialize_graph('circle', numNodes=10)\n",
        "run_simulation(graph, num_timesteps=5)"
      ]
    }
  ],
  "metadata": {
    "colab": {
      "provenance": []
    },
    "kernelspec": {
      "display_name": "Python 3",
      "name": "python3"
    },
    "language_info": {
      "codemirror_mode": {
        "name": "ipython",
        "version": 3
      },
      "file_extension": ".py",
      "mimetype": "text/x-python",
      "name": "python",
      "nbconvert_exporter": "python",
      "pygments_lexer": "ipython3",
      "version": "3.9.18"
    }
  },
  "nbformat": 4,
  "nbformat_minor": 0
}
