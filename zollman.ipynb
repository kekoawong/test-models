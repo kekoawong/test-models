{
  "cells": [
    {
      "cell_type": "markdown",
      "metadata": {
        "id": "aOyVXgmIrpaz"
      },
      "source": [
        "### Import libraries and define node class"
      ]
    },
    {
      "cell_type": "code",
      "execution_count": 1,
      "metadata": {
        "id": "rw7IXc3SZdqM"
      },
      "outputs": [],
      "source": [
        "import networkx as nx\n",
        "import matplotlib.pyplot as plt\n",
        "import ipywidgets as widgets\n",
        "import random\n",
        "import statistics\n",
        "\n",
        "class ZollmanNode:\n",
        "    def __init__(self, beliefProb, pEH=None):\n",
        "        self.beliefProb = beliefProb\n",
        "        self.pEH = pEH"
      ]
    },
    {
      "cell_type": "code",
      "execution_count": null,
      "metadata": {},
      "outputs": [],
      "source": []
    },
    {
      "cell_type": "code",
      "execution_count": 2,
      "metadata": {},
      "outputs": [
        {
          "data": {
            "application/vnd.jupyter.widget-view+json": {
              "model_id": "f48a69c2c2c5439282ac3944e6f17a1b",
              "version_major": 2,
              "version_minor": 0
            },
            "text/plain": [
              "interactive(children=(IntSlider(value=10, description='p1', max=30, min=-10), FloatSlider(value=0.5, descripti…"
            ]
          },
          "metadata": {},
          "output_type": "display_data"
        }
      ],
      "source": [
        "# Create a random graph\n",
        "globalVar = 10\n",
        "graph = nx.erdos_renyi_graph(10, 0.3)\n",
        "\n",
        "\n",
        "# Define interactive widgets for parameters\n",
        "parameter_widget = widgets.FloatSlider(value=0.5, min=0, max=1, step=0.1, description='Parameter:')\n",
        "\n",
        "\n",
        "# Define the function for one timestep\n",
        "def testing(graph, parameter):\n",
        "    # Update the graph based on the parameter\n",
        "    # This is a placeholder function, you should replace it with your own logic\n",
        "    print(graph, parameter)\n",
        "    pass\n",
        "\n",
        "# Define a function to update the graph based on the parameter value\n",
        "def update_graph(p1, parameter):\n",
        "    testing(graph, parameter)\n",
        "    nx.draw(graph, with_labels=True)\n",
        "    plt.show()\n",
        "\n",
        "# Create a function to start the simulation\n",
        "def start_simulation():\n",
        "    widgets.interact_manual(update_graph, p1=10, parameter=parameter_widget, manual_name=\"Custom Button Label\")\n",
        "\n",
        "# Display the widgets\n",
        "start_simulation()\n"
      ]
    },
    {
      "cell_type": "markdown",
      "metadata": {
        "id": "XFlrGia6v4ED"
      },
      "source": [
        "### Define Function to Display Graph"
      ]
    },
    {
      "cell_type": "code",
      "execution_count": null,
      "metadata": {
        "id": "kidtS-0gzunQ"
      },
      "outputs": [],
      "source": []
    },
    {
      "cell_type": "markdown",
      "metadata": {
        "id": "NiiffS-grwot"
      },
      "source": [
        "### Define graph initialization function"
      ]
    },
    {
      "cell_type": "code",
      "execution_count": 8,
      "metadata": {
        "id": "O1w230kbrvc0"
      },
      "outputs": [],
      "source": [
        "def initialize_graph(graphType: str, numNodes: int = 10):\n",
        "    graph = nx.Graph()\n",
        "    if graphType == 'circle':\n",
        "        for index in range(numNodes):\n",
        "            initial_data = {'group': index % 4, 'beliefProb': random.random(), 'pEH': None}\n",
        "            graph.add_node(f\"scientist-{index}\", **initial_data)\n",
        "            if index > 0:\n",
        "                graph.add_edge(f\"scientist-{index - 1}\", f\"scientist-{index}\")\n",
        "        graph.add_edge(f\"scientist-{numNodes - 1}\", \"scientist-0\")\n",
        "    elif graphType == 'wheel':\n",
        "        for index in range(numNodes - 1):\n",
        "            initial_data = {'group': index % 4, 'beliefProb': random.random(), 'pEH': None}\n",
        "            graph.add_node(f\"scientist-{index}\", **initial_data)\n",
        "            if index > 0:\n",
        "                graph.add_edge(f\"scientist-{index - 1}\", f\"scientist-{index}\")\n",
        "        graph.add_edge(f\"scientist-{numNodes - 2}\", \"scientist-0\")\n",
        "        graph.add_node(f\"scientist-{numNodes - 1}\", group=1, beliefProb=random.random(), pEH=None)\n",
        "        for node in graph.nodes:\n",
        "            if node != f\"scientist-{numNodes - 1}\":\n",
        "                graph.add_edge(node, f\"scientist-{numNodes - 1}\")\n",
        "    else:\n",
        "        for index in range(numNodes):\n",
        "            initial_data = {'group': index % 4, 'beliefProb': random.random(), 'pEH': None}\n",
        "            graph.add_node(f\"scientist-{index}\", **initial_data)\n",
        "        for i in range(numNodes):\n",
        "            for j in range(i + 1, numNodes):\n",
        "                if i != j:\n",
        "                    graph.add_edge(f\"scientist-{i}\", f\"scientist-{j}\")\n",
        "    return graph"
      ]
    },
    {
      "cell_type": "markdown",
      "metadata": {
        "id": "5ozqEShNuq6L"
      },
      "source": []
    },
    {
      "cell_type": "markdown",
      "metadata": {
        "id": "cHw7R0SysCYS"
      },
      "source": [
        "### Define timestep function and helper functions"
      ]
    },
    {
      "cell_type": "code",
      "execution_count": 67,
      "metadata": {
        "id": "JwqUqPgosGzN"
      },
      "outputs": [],
      "source": [
        "def run_experiment(world):\n",
        "    return random.uniform(0.3, 0.8) if world == 'higher' else random.uniform(0.2, 0.7)\n",
        "\n",
        "def calculate_posterior(pH, pEH):\n",
        "    pE = pEH * pH + (1 - pEH) * (1 - pH)\n",
        "    return (pEH * pH) / pE\n",
        "\n",
        "def timestep(graph):\n",
        "    nodes = graph.nodes(data=True)\n",
        "    for node, data in nodes:\n",
        "        data['pEH'] = run_experiment('higher') if data['beliefProb'] > 0.5 else None\n",
        "        data['beliefProb'] = calculate_posterior(data['beliefProb'], data['pEH']) if data['pEH'] is not None else data['beliefProb']\n",
        "\n",
        "    posteriors = []\n",
        "    for node, data in nodes:\n",
        "        neighbors = graph.neighbors(node)\n",
        "        for neighbor in neighbors:\n",
        "            neighbor_data = graph.nodes[neighbor]\n",
        "            if neighbor_data['pEH'] is not None:\n",
        "                data['beliefProb'] = calculate_posterior(data['beliefProb'], neighbor_data['pEH'])\n",
        "        data['group'] = sum(data['beliefProb'] > x for x in [0, 0.4, 0.6, 1])\n",
        "        posteriors.append(data['beliefProb'])\n",
        "    return posteriors"
      ]
    },
    {
      "cell_type": "markdown",
      "metadata": {
        "id": "j9I38CQBsNPu"
      },
      "source": [
        "### Define Function to Run Simulation"
      ]
    },
    {
      "cell_type": "code",
      "execution_count": 71,
      "metadata": {
        "id": "F-NCFu86sQFJ"
      },
      "outputs": [],
      "source": [
        "def run_simulation(graph, num_timesteps=1):\n",
        "    median_posteriors = []\n",
        "    for _ in range(num_timesteps):\n",
        "        posteriors = timestep(graph)\n",
        "        median_posterior = statistics.median(posteriors)\n",
        "        median_posteriors.append(median_posterior if median_posterior is not None else 0)\n",
        "    return median_posteriors"
      ]
    },
    {
      "cell_type": "markdown",
      "metadata": {
        "id": "njK4EG8-sSnF"
      },
      "source": [
        "### Run Simulation and Display Results"
      ]
    },
    {
      "cell_type": "code",
      "execution_count": 91,
      "metadata": {},
      "outputs": [
        {
          "data": {
            "application/vnd.jupyter.widget-view+json": {
              "model_id": "ad23e91491014d53b68cbc52841efc28",
              "version_major": 2,
              "version_minor": 0
            },
            "text/plain": [
              "VBox(children=(Label(value='Number of Nodes:'), BoundedIntText(value=10, max=25, min=2), Select(description='G…"
            ]
          },
          "metadata": {},
          "output_type": "display_data"
        },
        {
          "data": {
            "application/vnd.jupyter.widget-view+json": {
              "model_id": "c6bc8eafc0984d768bfdadfceb062af8",
              "version_major": 2,
              "version_minor": 0
            },
            "text/plain": [
              "Button(description='Initialize Graph', style=ButtonStyle())"
            ]
          },
          "metadata": {},
          "output_type": "display_data"
        },
        {
          "data": {
            "application/vnd.jupyter.widget-view+json": {
              "model_id": "2452b824d282429ea7fdf473d5ff4c76",
              "version_major": 2,
              "version_minor": 0
            },
            "text/plain": [
              "VBox(children=(Label(value='Number of Timesteps:'), BoundedIntText(value=100, max=10000, min=1)))"
            ]
          },
          "metadata": {},
          "output_type": "display_data"
        },
        {
          "data": {
            "application/vnd.jupyter.widget-view+json": {
              "model_id": "ca20d6d88e2d4ad3af3ba2684c479861",
              "version_major": 2,
              "version_minor": 0
            },
            "text/plain": [
              "Button(description='Run Simulation', style=ButtonStyle())"
            ]
          },
          "metadata": {},
          "output_type": "display_data"
        },
        {
          "name": "stdout",
          "output_type": "stream",
          "text": [
            "100\n",
            "Graph with 10 nodes and 10 edges\n"
          ]
        },
        {
          "ename": "KeyError",
          "evalue": "'beliefProb'",
          "output_type": "error",
          "traceback": [
            "\u001b[0;31m---------------------------------------------------------------------------\u001b[0m",
            "\u001b[0;31mKeyError\u001b[0m                                  Traceback (most recent call last)",
            "\u001b[0;32m/var/folders/qp/kbk93qxn41s488wn8qj4p7mm0000gn/T/ipykernel_57681/1786587836.py\u001b[0m in \u001b[0;36monStart\u001b[0;34m(_)\u001b[0m\n\u001b[1;32m     27\u001b[0m     \u001b[0mprint\u001b[0m\u001b[0;34m(\u001b[0m\u001b[0mnumTimesteps\u001b[0m\u001b[0;34m.\u001b[0m\u001b[0mvalue\u001b[0m\u001b[0;34m)\u001b[0m\u001b[0;34m\u001b[0m\u001b[0;34m\u001b[0m\u001b[0m\n\u001b[1;32m     28\u001b[0m     \u001b[0mprint\u001b[0m\u001b[0;34m(\u001b[0m\u001b[0mnewGraph\u001b[0m\u001b[0;34m)\u001b[0m\u001b[0;34m\u001b[0m\u001b[0;34m\u001b[0m\u001b[0m\n\u001b[0;32m---> 29\u001b[0;31m     \u001b[0mrun_simulation\u001b[0m\u001b[0;34m(\u001b[0m\u001b[0mgraph\u001b[0m\u001b[0;34m=\u001b[0m\u001b[0mnewGraph\u001b[0m\u001b[0;34m,\u001b[0m \u001b[0mnum_timesteps\u001b[0m\u001b[0;34m=\u001b[0m\u001b[0mnumTimesteps\u001b[0m\u001b[0;34m.\u001b[0m\u001b[0mvalue\u001b[0m\u001b[0;34m)\u001b[0m\u001b[0;34m\u001b[0m\u001b[0;34m\u001b[0m\u001b[0m\n\u001b[0m\u001b[1;32m     30\u001b[0m \u001b[0mstart_button\u001b[0m\u001b[0;34m.\u001b[0m\u001b[0mon_click\u001b[0m\u001b[0;34m(\u001b[0m\u001b[0monStart\u001b[0m\u001b[0;34m)\u001b[0m\u001b[0;34m\u001b[0m\u001b[0;34m\u001b[0m\u001b[0m\n\u001b[1;32m     31\u001b[0m \u001b[0;34m\u001b[0m\u001b[0m\n",
            "\u001b[0;32m/var/folders/qp/kbk93qxn41s488wn8qj4p7mm0000gn/T/ipykernel_57681/3768309708.py\u001b[0m in \u001b[0;36mrun_simulation\u001b[0;34m(graph, num_timesteps)\u001b[0m\n\u001b[1;32m      2\u001b[0m     \u001b[0mmedian_posteriors\u001b[0m \u001b[0;34m=\u001b[0m \u001b[0;34m[\u001b[0m\u001b[0;34m]\u001b[0m\u001b[0;34m\u001b[0m\u001b[0;34m\u001b[0m\u001b[0m\n\u001b[1;32m      3\u001b[0m     \u001b[0;32mfor\u001b[0m \u001b[0m_\u001b[0m \u001b[0;32min\u001b[0m \u001b[0mrange\u001b[0m\u001b[0;34m(\u001b[0m\u001b[0mnum_timesteps\u001b[0m\u001b[0;34m)\u001b[0m\u001b[0;34m:\u001b[0m\u001b[0;34m\u001b[0m\u001b[0;34m\u001b[0m\u001b[0m\n\u001b[0;32m----> 4\u001b[0;31m         \u001b[0mposteriors\u001b[0m \u001b[0;34m=\u001b[0m \u001b[0mtimestep\u001b[0m\u001b[0;34m(\u001b[0m\u001b[0mgraph\u001b[0m\u001b[0;34m)\u001b[0m\u001b[0;34m\u001b[0m\u001b[0;34m\u001b[0m\u001b[0m\n\u001b[0m\u001b[1;32m      5\u001b[0m         \u001b[0mmedian_posterior\u001b[0m \u001b[0;34m=\u001b[0m \u001b[0mstatistics\u001b[0m\u001b[0;34m.\u001b[0m\u001b[0mmedian\u001b[0m\u001b[0;34m(\u001b[0m\u001b[0mposteriors\u001b[0m\u001b[0;34m)\u001b[0m\u001b[0;34m\u001b[0m\u001b[0;34m\u001b[0m\u001b[0m\n\u001b[1;32m      6\u001b[0m         \u001b[0mmedian_posteriors\u001b[0m\u001b[0;34m.\u001b[0m\u001b[0mappend\u001b[0m\u001b[0;34m(\u001b[0m\u001b[0mmedian_posterior\u001b[0m \u001b[0;32mif\u001b[0m \u001b[0mmedian_posterior\u001b[0m \u001b[0;32mis\u001b[0m \u001b[0;32mnot\u001b[0m \u001b[0;32mNone\u001b[0m \u001b[0;32melse\u001b[0m \u001b[0;36m0\u001b[0m\u001b[0;34m)\u001b[0m\u001b[0;34m\u001b[0m\u001b[0;34m\u001b[0m\u001b[0m\n",
            "\u001b[0;32m/var/folders/qp/kbk93qxn41s488wn8qj4p7mm0000gn/T/ipykernel_57681/1960416115.py\u001b[0m in \u001b[0;36mtimestep\u001b[0;34m(graph)\u001b[0m\n\u001b[1;32m      9\u001b[0m     \u001b[0mnodes\u001b[0m \u001b[0;34m=\u001b[0m \u001b[0mgraph\u001b[0m\u001b[0;34m.\u001b[0m\u001b[0mnodes\u001b[0m\u001b[0;34m(\u001b[0m\u001b[0mdata\u001b[0m\u001b[0;34m=\u001b[0m\u001b[0;32mTrue\u001b[0m\u001b[0;34m)\u001b[0m\u001b[0;34m\u001b[0m\u001b[0;34m\u001b[0m\u001b[0m\n\u001b[1;32m     10\u001b[0m     \u001b[0;32mfor\u001b[0m \u001b[0mnode\u001b[0m\u001b[0;34m,\u001b[0m \u001b[0mdata\u001b[0m \u001b[0;32min\u001b[0m \u001b[0mnodes\u001b[0m\u001b[0;34m:\u001b[0m\u001b[0;34m\u001b[0m\u001b[0;34m\u001b[0m\u001b[0m\n\u001b[0;32m---> 11\u001b[0;31m         \u001b[0mdata\u001b[0m\u001b[0;34m[\u001b[0m\u001b[0;34m'pEH'\u001b[0m\u001b[0;34m]\u001b[0m \u001b[0;34m=\u001b[0m \u001b[0mrun_experiment\u001b[0m\u001b[0;34m(\u001b[0m\u001b[0;34m'higher'\u001b[0m\u001b[0;34m)\u001b[0m \u001b[0;32mif\u001b[0m \u001b[0mdata\u001b[0m\u001b[0;34m[\u001b[0m\u001b[0;34m'beliefProb'\u001b[0m\u001b[0;34m]\u001b[0m \u001b[0;34m>\u001b[0m \u001b[0;36m0.5\u001b[0m \u001b[0;32melse\u001b[0m \u001b[0;32mNone\u001b[0m\u001b[0;34m\u001b[0m\u001b[0;34m\u001b[0m\u001b[0m\n\u001b[0m\u001b[1;32m     12\u001b[0m         \u001b[0mdata\u001b[0m\u001b[0;34m[\u001b[0m\u001b[0;34m'beliefProb'\u001b[0m\u001b[0;34m]\u001b[0m \u001b[0;34m=\u001b[0m \u001b[0mcalculate_posterior\u001b[0m\u001b[0;34m(\u001b[0m\u001b[0mdata\u001b[0m\u001b[0;34m[\u001b[0m\u001b[0;34m'beliefProb'\u001b[0m\u001b[0;34m]\u001b[0m\u001b[0;34m,\u001b[0m \u001b[0mdata\u001b[0m\u001b[0;34m[\u001b[0m\u001b[0;34m'pEH'\u001b[0m\u001b[0;34m]\u001b[0m\u001b[0;34m)\u001b[0m \u001b[0;32mif\u001b[0m \u001b[0mdata\u001b[0m\u001b[0;34m[\u001b[0m\u001b[0;34m'pEH'\u001b[0m\u001b[0;34m]\u001b[0m \u001b[0;32mis\u001b[0m \u001b[0;32mnot\u001b[0m \u001b[0;32mNone\u001b[0m \u001b[0;32melse\u001b[0m \u001b[0mdata\u001b[0m\u001b[0;34m[\u001b[0m\u001b[0;34m'beliefProb'\u001b[0m\u001b[0;34m]\u001b[0m\u001b[0;34m\u001b[0m\u001b[0;34m\u001b[0m\u001b[0m\n\u001b[1;32m     13\u001b[0m \u001b[0;34m\u001b[0m\u001b[0m\n",
            "\u001b[0;31mKeyError\u001b[0m: 'beliefProb'"
          ]
        }
      ],
      "source": [
        "# Define Parameters\n",
        "numTimesteps = 100 # or do not need this? Just run at a pace\n",
        "newGraph = nx.Graph()\n",
        "numNodes_label = widgets.Label(\"Number of Nodes:\")\n",
        "numNodes = widgets.BoundedIntText(value=10, min=2, max=25, step=1)\n",
        "graphType = widgets.Select(options=['circle', 'wheel', 'complete'], value='circle', description='Graph Type:')\n",
        "custom_button = widgets.Button(description=\"Initialize Graph\")\n",
        "# result = widgets.interact_manual(initialize_graph, graphType=graphType, numNodes=numNodes, description=\"Initialize Graph\")\n",
        "def onClick(_):\n",
        "    graph2 = initialize_graph(numNodes=numNodes.value, graphType=graphType.value)\n",
        "    newGraph.clear()\n",
        "    newGraph.add_nodes_from(graph2.nodes)\n",
        "    newGraph.add_edges_from(graph2.edges)\n",
        "custom_button.on_click(onClick)\n",
        "# Group the interactive widgets together using HBox or VBox\n",
        "widget_group = widgets.VBox([numNodes_label, numNodes, graphType])\n",
        "\n",
        "# Define timestep\n",
        "timestepLabel = widgets.Label(\"Number of Timesteps:\")\n",
        "numTimesteps = widgets.BoundedIntText(value=100, min=1, max=10000, step=1)\n",
        "timestepGroup = widgets.VBox([timestepLabel, numTimesteps])\n",
        "start_button = widgets.Button(description=\"Run Simulation\")\n",
        "\n",
        "def onStart(_):\n",
        "    if not newGraph.number_of_nodes:\n",
        "        ValueError(\"No Graph initialized\")\n",
        "    print(numTimesteps.value)\n",
        "    print(newGraph)\n",
        "    run_simulation(graph=newGraph, num_timesteps=numTimesteps.value)\n",
        "start_button.on_click(onStart)\n",
        "\n",
        "# Display the custom button and the interactive widgets\n",
        "display(widget_group, custom_button, timestepGroup, start_button)\n",
        "\n",
        "# Buttons: initialize graph, run X timesteps"
      ]
    },
    {
      "cell_type": "code",
      "execution_count": 92,
      "metadata": {
        "colab": {
          "base_uri": "https://localhost:8080/",
          "height": 542
        },
        "id": "OCgcfCnjsVa-",
        "outputId": "3cd88408-9aee-41fd-b5d8-e493e4a9944f"
      },
      "outputs": [
        {
          "data": {
            "text/plain": [
              "[0.9146476416183658,\n",
              " 0.9458599064883797,\n",
              " 0.9888430715832884,\n",
              " 0.9910226153378695,\n",
              " 0.9866292644583958]"
            ]
          },
          "execution_count": 92,
          "metadata": {},
          "output_type": "execute_result"
        }
      ],
      "source": [
        "# Example usage:\n",
        "graph = initialize_graph('circle', numNodes=10)\n",
        "run_simulation(graph, num_timesteps=5)"
      ]
    }
  ],
  "metadata": {
    "colab": {
      "provenance": []
    },
    "kernelspec": {
      "display_name": "Python 3",
      "name": "python3"
    },
    "language_info": {
      "codemirror_mode": {
        "name": "ipython",
        "version": 3
      },
      "file_extension": ".py",
      "mimetype": "text/x-python",
      "name": "python",
      "nbconvert_exporter": "python",
      "pygments_lexer": "ipython3",
      "version": "3.9.18"
    }
  },
  "nbformat": 4,
  "nbformat_minor": 0
}
