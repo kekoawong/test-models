{
  "cells": [
    {
      "cell_type": "markdown",
      "metadata": {
        "id": "aOyVXgmIrpaz"
      },
      "source": [
        "### Import libraries and define node class"
      ]
    },
    {
      "cell_type": "code",
      "execution_count": 38,
      "metadata": {
        "id": "rw7IXc3SZdqM"
      },
      "outputs": [],
      "source": [
        "import networkx as nx\n",
        "import matplotlib.pyplot as plt\n",
        "import ipywidgets as widgets\n",
        "import random\n",
        "import statistics\n",
        "\n",
        "class ZollmanNode:\n",
        "    def __init__(self, beliefProb, pEH=None):\n",
        "        self.beliefProb = beliefProb\n",
        "        self.pEH = pEH"
      ]
    },
    {
      "cell_type": "code",
      "execution_count": 104,
      "metadata": {},
      "outputs": [
        {
          "data": {
            "application/vnd.jupyter.widget-view+json": {
              "model_id": "f6bf23568cfa48329ff44984db4a6df3",
              "version_major": 2,
              "version_minor": 0
            },
            "text/plain": [
              "interactive(children=(IntSlider(value=10, description='p1', max=30, min=-10), FloatSlider(value=0.5, descripti…"
            ]
          },
          "metadata": {},
          "output_type": "display_data"
        }
      ],
      "source": [
        "# Create a random graph\n",
        "globalVar = 10\n",
        "graph = nx.erdos_renyi_graph(10, 0.3)\n",
        "\n",
        "\n",
        "# Define interactive widgets for parameters\n",
        "parameter_widget = widgets.FloatSlider(value=0.5, min=0, max=1, step=0.1, description='Parameter:')\n",
        "\n",
        "\n",
        "# Define the function for one timestep\n",
        "def testing(graph, parameter):\n",
        "    # Update the graph based on the parameter\n",
        "    # This is a placeholder function, you should replace it with your own logic\n",
        "    print(graph, parameter)\n",
        "    pass\n",
        "\n",
        "# Define a function to update the graph based on the parameter value\n",
        "def update_graph(p1, parameter):\n",
        "    testing(graph, parameter)\n",
        "    print(parameter)\n",
        "    nx.draw(graph, with_labels=True)\n",
        "    plt.show()\n",
        "\n",
        "# Create a function to start the simulation\n",
        "def start_simulation():\n",
        "    widgets.interact_manual(update_graph, p1=10, parameter=parameter_widget)\n",
        "\n",
        "# Display the widgets\n",
        "start_simulation()\n"
      ]
    },
    {
      "cell_type": "code",
      "execution_count": null,
      "metadata": {},
      "outputs": [],
      "source": []
    },
    {
      "cell_type": "markdown",
      "metadata": {
        "id": "XFlrGia6v4ED"
      },
      "source": [
        "### Define Function to Display Graph"
      ]
    },
    {
      "cell_type": "code",
      "execution_count": 105,
      "metadata": {
        "id": "kidtS-0gzunQ"
      },
      "outputs": [],
      "source": []
    },
    {
      "cell_type": "markdown",
      "metadata": {
        "id": "NiiffS-grwot"
      },
      "source": [
        "### Define graph initialization function"
      ]
    },
    {
      "cell_type": "code",
      "execution_count": 106,
      "metadata": {
        "id": "O1w230kbrvc0"
      },
      "outputs": [],
      "source": [
        "def initialize_graph(type: str, numberNodes: int = 10):\n",
        "    graph = nx.Graph()\n",
        "    if type == 'circle':\n",
        "        for index in range(numberNodes):\n",
        "            initial_data = {'group': index % 4, 'beliefProb': random.random(), 'pEH': None}\n",
        "            graph.add_node(f\"scientist-{index}\", **initial_data)\n",
        "            if index > 0:\n",
        "                graph.add_edge(f\"scientist-{index - 1}\", f\"scientist-{index}\")\n",
        "        graph.add_edge(f\"scientist-{numberNodes - 1}\", \"scientist-0\")\n",
        "    elif type == 'wheel':\n",
        "        for index in range(numberNodes - 1):\n",
        "            initial_data = {'group': index % 4, 'beliefProb': random.random(), 'pEH': None}\n",
        "            graph.add_node(f\"scientist-{index}\", **initial_data)\n",
        "            if index > 0:\n",
        "                graph.add_edge(f\"scientist-{index - 1}\", f\"scientist-{index}\")\n",
        "        graph.add_edge(f\"scientist-{numberNodes - 2}\", \"scientist-0\")\n",
        "        graph.add_node(f\"scientist-{numberNodes - 1}\", group=1, beliefProb=random.random(), pEH=None)\n",
        "        for node in graph.nodes:\n",
        "            if node != f\"scientist-{numberNodes - 1}\":\n",
        "                graph.add_edge(node, f\"scientist-{numberNodes - 1}\")\n",
        "    else:\n",
        "        for index in range(numberNodes):\n",
        "            initial_data = {'group': index % 4, 'beliefProb': random.random(), 'pEH': None}\n",
        "            graph.add_node(f\"scientist-{index}\", **initial_data)\n",
        "        for i in range(numberNodes):\n",
        "            for j in range(i + 1, numberNodes):\n",
        "                if i != j:\n",
        "                    graph.add_edge(f\"scientist-{i}\", f\"scientist-{j}\")\n",
        "    return graph"
      ]
    },
    {
      "cell_type": "markdown",
      "metadata": {
        "id": "5ozqEShNuq6L"
      },
      "source": []
    },
    {
      "cell_type": "markdown",
      "metadata": {
        "id": "cHw7R0SysCYS"
      },
      "source": [
        "### Define timestep function and helper functions"
      ]
    },
    {
      "cell_type": "code",
      "execution_count": 107,
      "metadata": {
        "id": "JwqUqPgosGzN"
      },
      "outputs": [],
      "source": [
        "def run_experiment(world):\n",
        "    return random.uniform(0.3, 0.8) if world == 'higher' else random.uniform(0.2, 0.7)\n",
        "\n",
        "def calculate_posterior(pH, pEH):\n",
        "    pE = pEH * pH + (1 - pEH) * (1 - pH)\n",
        "    return (pEH * pH) / pE\n",
        "\n",
        "def timestep(graph):\n",
        "    nodes = graph.nodes(data=True)\n",
        "    for node, data in nodes:\n",
        "        data['pEH'] = run_experiment('higher') if data['beliefProb'] > 0.5 else None\n",
        "        data['beliefProb'] = calculate_posterior(data['beliefProb'], data['pEH']) if data['pEH'] is not None else data['beliefProb']\n",
        "\n",
        "    posteriors = []\n",
        "    for node, data in nodes:\n",
        "        neighbors = graph.neighbors(node)\n",
        "        for neighbor in neighbors:\n",
        "            neighbor_data = graph.nodes[neighbor]\n",
        "            if neighbor_data['pEH'] is not None:\n",
        "                data['beliefProb'] = calculate_posterior(data['beliefProb'], neighbor_data['pEH'])\n",
        "        data['group'] = sum(data['beliefProb'] > x for x in [0, 0.4, 0.6, 1])\n",
        "        posteriors.append(data['beliefProb'])\n",
        "    return posteriors"
      ]
    },
    {
      "cell_type": "markdown",
      "metadata": {
        "id": "j9I38CQBsNPu"
      },
      "source": [
        "### Define Function to Run Simulation"
      ]
    },
    {
      "cell_type": "code",
      "execution_count": 108,
      "metadata": {
        "id": "F-NCFu86sQFJ"
      },
      "outputs": [],
      "source": [
        "def run_simulation(graph, num_timesteps=1):\n",
        "    median_posteriors = []\n",
        "    for _ in range(num_timesteps):\n",
        "        posteriors = timestep(graph)\n",
        "        median_posterior = statistics.median(posteriors)\n",
        "        median_posteriors.append(median_posterior if median_posterior is not None else 0)\n",
        "    return median_posteriors"
      ]
    },
    {
      "cell_type": "markdown",
      "metadata": {
        "id": "njK4EG8-sSnF"
      },
      "source": [
        "### Run Simulation and Display Results"
      ]
    },
    {
      "cell_type": "code",
      "execution_count": 109,
      "metadata": {
        "colab": {
          "base_uri": "https://localhost:8080/",
          "height": 542
        },
        "id": "OCgcfCnjsVa-",
        "outputId": "3cd88408-9aee-41fd-b5d8-e493e4a9944f"
      },
      "outputs": [
        {
          "ename": "NameError",
          "evalue": "name 'random' is not defined",
          "output_type": "error",
          "traceback": [
            "\u001b[0;31m---------------------------------------------------------------------------\u001b[0m",
            "\u001b[0;31mNameError\u001b[0m                                 Traceback (most recent call last)",
            "\u001b[0;32m/var/folders/qp/kbk93qxn41s488wn8qj4p7mm0000gn/T/ipykernel_53497/1233241060.py\u001b[0m in \u001b[0;36m<module>\u001b[0;34m\u001b[0m\n\u001b[1;32m      1\u001b[0m \u001b[0;31m# Example usage:\u001b[0m\u001b[0;34m\u001b[0m\u001b[0;34m\u001b[0m\u001b[0m\n\u001b[0;32m----> 2\u001b[0;31m \u001b[0mgraph\u001b[0m \u001b[0;34m=\u001b[0m \u001b[0minitialize_graph\u001b[0m\u001b[0;34m(\u001b[0m\u001b[0;34m'circle'\u001b[0m\u001b[0;34m,\u001b[0m \u001b[0mnumberNodes\u001b[0m\u001b[0;34m=\u001b[0m\u001b[0;36m10\u001b[0m\u001b[0;34m)\u001b[0m\u001b[0;34m\u001b[0m\u001b[0;34m\u001b[0m\u001b[0m\n\u001b[0m\u001b[1;32m      3\u001b[0m \u001b[0mrun_simulation\u001b[0m\u001b[0;34m(\u001b[0m\u001b[0mgraph\u001b[0m\u001b[0;34m,\u001b[0m \u001b[0mnum_timesteps\u001b[0m\u001b[0;34m=\u001b[0m\u001b[0;36m5\u001b[0m\u001b[0;34m)\u001b[0m\u001b[0;34m\u001b[0m\u001b[0;34m\u001b[0m\u001b[0m\n\u001b[1;32m      4\u001b[0m \u001b[0mplot_network\u001b[0m\u001b[0;34m(\u001b[0m\u001b[0mgraph\u001b[0m\u001b[0;34m)\u001b[0m\u001b[0;34m\u001b[0m\u001b[0;34m\u001b[0m\u001b[0m\n",
            "\u001b[0;32m/var/folders/qp/kbk93qxn41s488wn8qj4p7mm0000gn/T/ipykernel_53497/1123303433.py\u001b[0m in \u001b[0;36minitialize_graph\u001b[0;34m(type, numberNodes)\u001b[0m\n\u001b[1;32m      3\u001b[0m     \u001b[0;32mif\u001b[0m \u001b[0mtype\u001b[0m \u001b[0;34m==\u001b[0m \u001b[0;34m'circle'\u001b[0m\u001b[0;34m:\u001b[0m\u001b[0;34m\u001b[0m\u001b[0;34m\u001b[0m\u001b[0m\n\u001b[1;32m      4\u001b[0m         \u001b[0;32mfor\u001b[0m \u001b[0mindex\u001b[0m \u001b[0;32min\u001b[0m \u001b[0mrange\u001b[0m\u001b[0;34m(\u001b[0m\u001b[0mnumberNodes\u001b[0m\u001b[0;34m)\u001b[0m\u001b[0;34m:\u001b[0m\u001b[0;34m\u001b[0m\u001b[0;34m\u001b[0m\u001b[0m\n\u001b[0;32m----> 5\u001b[0;31m             \u001b[0minitial_data\u001b[0m \u001b[0;34m=\u001b[0m \u001b[0;34m{\u001b[0m\u001b[0;34m'group'\u001b[0m\u001b[0;34m:\u001b[0m \u001b[0mindex\u001b[0m \u001b[0;34m%\u001b[0m \u001b[0;36m4\u001b[0m\u001b[0;34m,\u001b[0m \u001b[0;34m'beliefProb'\u001b[0m\u001b[0;34m:\u001b[0m \u001b[0mrandom\u001b[0m\u001b[0;34m.\u001b[0m\u001b[0mrandom\u001b[0m\u001b[0;34m(\u001b[0m\u001b[0;34m)\u001b[0m\u001b[0;34m,\u001b[0m \u001b[0;34m'pEH'\u001b[0m\u001b[0;34m:\u001b[0m \u001b[0;32mNone\u001b[0m\u001b[0;34m}\u001b[0m\u001b[0;34m\u001b[0m\u001b[0;34m\u001b[0m\u001b[0m\n\u001b[0m\u001b[1;32m      6\u001b[0m             \u001b[0mgraph\u001b[0m\u001b[0;34m.\u001b[0m\u001b[0madd_node\u001b[0m\u001b[0;34m(\u001b[0m\u001b[0;34mf\"scientist-{index}\"\u001b[0m\u001b[0;34m,\u001b[0m \u001b[0;34m**\u001b[0m\u001b[0minitial_data\u001b[0m\u001b[0;34m)\u001b[0m\u001b[0;34m\u001b[0m\u001b[0;34m\u001b[0m\u001b[0m\n\u001b[1;32m      7\u001b[0m             \u001b[0;32mif\u001b[0m \u001b[0mindex\u001b[0m \u001b[0;34m>\u001b[0m \u001b[0;36m0\u001b[0m\u001b[0;34m:\u001b[0m\u001b[0;34m\u001b[0m\u001b[0;34m\u001b[0m\u001b[0m\n",
            "\u001b[0;31mNameError\u001b[0m: name 'random' is not defined"
          ]
        }
      ],
      "source": [
        "# Example usage:\n",
        "graph = initialize_graph('circle', numberNodes=10)\n",
        "run_simulation(graph, num_timesteps=5)\n",
        "plot_network(graph)"
      ]
    }
  ],
  "metadata": {
    "colab": {
      "provenance": []
    },
    "kernelspec": {
      "display_name": "Python 3",
      "name": "python3"
    },
    "language_info": {
      "codemirror_mode": {
        "name": "ipython",
        "version": 3
      },
      "file_extension": ".py",
      "mimetype": "text/x-python",
      "name": "python",
      "nbconvert_exporter": "python",
      "pygments_lexer": "ipython3",
      "version": "3.9.18"
    }
  },
  "nbformat": 4,
  "nbformat_minor": 0
}
