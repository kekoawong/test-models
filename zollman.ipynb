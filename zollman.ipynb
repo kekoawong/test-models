{
  "cells": [
    {
      "cell_type": "code",
      "execution_count": 82,
      "metadata": {},
      "outputs": [],
      "source": [
        "# Define Parameters\n",
        "timesteps = 100"
      ]
    },
    {
      "cell_type": "markdown",
      "metadata": {
        "id": "aOyVXgmIrpaz"
      },
      "source": [
        "## Import libraries and define `ScientistNode` class\n",
        "Libraries include networkx for graph data analysis and matplotlib for data visualization\n",
        "The custom node class is defined for keeping track of the data for a scientist within the network"
      ]
    },
    {
      "cell_type": "code",
      "execution_count": 83,
      "metadata": {
        "id": "rw7IXc3SZdqM"
      },
      "outputs": [],
      "source": [
        "# import packages\n",
        "import networkx as nx\n",
        "import matplotlib.pyplot as plt\n",
        "import ipywidgets as widgets\n",
        "import random\n",
        "import statistics\n",
        "\n",
        "# Define a scientist node\n",
        "class ScientistNode:\n",
        "    def __init__(self, beliefProb, pEH=None):\n",
        "        # the probability that the scientist believes the current hypothesis is true\n",
        "        self.beliefProb = beliefProb\n",
        "        # the observational likelihood of the hypothesis\n",
        "        self.pEH = pEH"
      ]
    },
    {
      "cell_type": "markdown",
      "metadata": {},
      "source": [
        "## Define timestep function\n",
        "This function will be run for every timestep, taking in the graph data structure as an argument."
      ]
    },
    {
      "cell_type": "code",
      "execution_count": null,
      "metadata": {},
      "outputs": [],
      "source": [
        "def run_experiment(world):\n",
        "    return random.uniform(0.3, 0.8) if world == 'higher' else random.uniform(0.2, 0.7)\n",
        "from helpers import calculate_posterior\n",
        "\n",
        "def timestep(graph: nx.Graph):\n",
        "    nodes = graph.nodes(data=True)\n",
        "    for node, data in nodes:\n",
        "        data['pEH'] = run_experiment('higher') if data['beliefProb'] > 0.5 else None\n",
        "        data['beliefProb'] = calculate_posterior(data['beliefProb'], data['pEH']) if data['pEH'] is not None else data['beliefProb']\n",
        "\n",
        "    posteriors = []\n",
        "    for node, data in nodes:\n",
        "        neighbors = graph.neighbors(node)\n",
        "        for neighbor in neighbors:\n",
        "            neighbor_data = graph.nodes[neighbor]\n",
        "            if neighbor_data['pEH'] is not None:\n",
        "                data['beliefProb'] = calculate_posterior(data['beliefProb'], neighbor_data['pEH'])\n",
        "        data['group'] = sum(data['beliefProb'] > x for x in [0, 0.4, 0.6, 1])\n",
        "        posteriors.append(data['beliefProb'])\n",
        "    return posteriors"
      ]
    },
    {
      "cell_type": "code",
      "execution_count": 84,
      "metadata": {},
      "outputs": [],
      "source": [
        "# Create a random graph\n",
        "graph = nx.erdos_renyi_graph(10, 0.3)\n",
        "\n",
        "\n",
        "# Define the function for one timestep\n",
        "def testing(graph, parameter):\n",
        "    # Update the graph based on the parameter\n",
        "    # This is a placeholder function, you should replace it with your own logic\n",
        "    print(graph, parameter)\n",
        "    pass\n",
        "\n",
        "# Define a function to update the graph based on the parameter value\n",
        "def update_graph(p1, parameter):\n",
        "    testing(graph, parameter)\n",
        "    nx.draw(graph, with_labels=True)\n",
        "    plt.show()\n",
        "\n"
      ]
    },
    {
      "cell_type": "markdown",
      "metadata": {
        "id": "NiiffS-grwot"
      },
      "source": [
        "### Define graph initialization function"
      ]
    },
    {
      "cell_type": "markdown",
      "metadata": {
        "id": "5ozqEShNuq6L"
      },
      "source": []
    },
    {
      "cell_type": "markdown",
      "metadata": {
        "id": "cHw7R0SysCYS"
      },
      "source": [
        "### Define timestep function and helper functions"
      ]
    },
    {
      "cell_type": "code",
      "execution_count": 85,
      "metadata": {
        "id": "JwqUqPgosGzN"
      },
      "outputs": [],
      "source": []
    },
    {
      "cell_type": "markdown",
      "metadata": {
        "id": "j9I38CQBsNPu"
      },
      "source": [
        "### Define Function to Run Simulation"
      ]
    },
    {
      "cell_type": "code",
      "execution_count": 86,
      "metadata": {
        "id": "F-NCFu86sQFJ"
      },
      "outputs": [],
      "source": [
        "def run_simulation(graph, num_timesteps=1):\n",
        "    median_posteriors = []\n",
        "    for _ in range(num_timesteps):\n",
        "        posteriors = timestep(graph)\n",
        "        median_posterior = statistics.median(posteriors)\n",
        "        median_posteriors.append(median_posterior if median_posterior is not None else 0)\n",
        "        yield median_posteriors"
      ]
    },
    {
      "cell_type": "markdown",
      "metadata": {
        "id": "njK4EG8-sSnF"
      },
      "source": [
        "### Run Simulation and Display Results"
      ]
    },
    {
      "cell_type": "code",
      "execution_count": 87,
      "metadata": {},
      "outputs": [
        {
          "data": {
            "application/vnd.jupyter.widget-view+json": {
              "model_id": "ef9bdc80e44d460faa00c1e3ebd53813",
              "version_major": 2,
              "version_minor": 0
            },
            "text/plain": [
              "VBox(children=(Label(value='Number of Nodes:'), BoundedIntText(value=10, max=25, min=2), Select(description='G…"
            ]
          },
          "metadata": {},
          "output_type": "display_data"
        },
        {
          "data": {
            "application/vnd.jupyter.widget-view+json": {
              "model_id": "288ada9dde0f4d8991f15fca09dbc0fc",
              "version_major": 2,
              "version_minor": 0
            },
            "text/plain": [
              "Button(description='Initialize Graph', style=ButtonStyle())"
            ]
          },
          "metadata": {},
          "output_type": "display_data"
        },
        {
          "data": {
            "application/vnd.jupyter.widget-view+json": {
              "model_id": "aa7503ef672342c1a99aff91d6f06627",
              "version_major": 2,
              "version_minor": 0
            },
            "text/plain": [
              "VBox(children=(Label(value='Number of Timesteps:'), BoundedIntText(value=100, max=10000, min=1)))"
            ]
          },
          "metadata": {},
          "output_type": "display_data"
        },
        {
          "data": {
            "application/vnd.jupyter.widget-view+json": {
              "model_id": "f663d2f6aacf491b86082024cc1e8f8d",
              "version_major": 2,
              "version_minor": 0
            },
            "text/plain": [
              "Button(description='Run Simulation', disabled=True, style=ButtonStyle())"
            ]
          },
          "metadata": {},
          "output_type": "display_data"
        }
      ],
      "source": [
        "# Define Parameters\n",
        "numTimesteps = 100 # or do not need this? Just run at a pace\n",
        "newGraph = nx.Graph()\n",
        "numNodes_label = widgets.Label(\"Number of Nodes:\")\n",
        "numNodes = widgets.BoundedIntText(value=10, min=2, max=25, step=1)\n",
        "graphType = widgets.Select(options=['circle', 'wheel', 'complete'], value='circle', description='Graph Type:')\n",
        "custom_button = widgets.Button(description=\"Initialize Graph\")\n",
        "# Group the interactive widgets together using HBox or VBox\n",
        "widget_group = widgets.VBox([numNodes_label, numNodes, graphType])\n",
        "\n",
        "# Define timestep\n",
        "timestepLabel = widgets.Label(\"Number of Timesteps:\")\n",
        "numTimesteps = widgets.BoundedIntText(value=100, min=1, max=10000, step=1)\n",
        "timestepGroup = widgets.VBox([timestepLabel, numTimesteps])\n",
        "start_button = widgets.Button(description=\"Run Simulation\", disabled=True)\n",
        "\n",
        "def onClick(_):\n",
        "    initializedGraph = initialize_graph(numNodes=numNodes.value, graphType=graphType.value)\n",
        "    newGraph.clear()\n",
        "    newGraph.add_nodes_from(initializedGraph.nodes(data=True))\n",
        "    newGraph.add_edges_from(initializedGraph.edges(data=True))\n",
        "    start_button.disabled = False\n",
        "\n",
        "custom_button.on_click(onClick)\n",
        "\n",
        "def onStart(_):\n",
        "    if newGraph.number_of_nodes() < 1:\n",
        "        ValueError(\"No Graph initialized\")\n",
        "    run_simulation(graph=newGraph, num_timesteps=numTimesteps.value)\n",
        "    nx.draw(newGraph, with_labels=True)\n",
        "    plt.show()\n",
        "start_button.on_click(onStart)\n",
        "\n",
        "# Display the custom button and the interactive widgets\n",
        "display(widget_group, custom_button, timestepGroup, start_button)"
      ]
    },
    {
      "cell_type": "code",
      "execution_count": 88,
      "metadata": {
        "colab": {
          "base_uri": "https://localhost:8080/",
          "height": 542
        },
        "id": "OCgcfCnjsVa-",
        "outputId": "3cd88408-9aee-41fd-b5d8-e493e4a9944f"
      },
      "outputs": [
        {
          "data": {
            "text/plain": [
              "<generator object run_simulation at 0x11de887b0>"
            ]
          },
          "execution_count": 88,
          "metadata": {},
          "output_type": "execute_result"
        }
      ],
      "source": [
        "# Example usage:\n",
        "graph = initialize_graph('circle', numNodes=10)\n",
        "run_simulation(graph, num_timesteps=5)"
      ]
    }
  ],
  "metadata": {
    "colab": {
      "provenance": []
    },
    "kernelspec": {
      "display_name": "Python 3",
      "name": "python3"
    },
    "language_info": {
      "codemirror_mode": {
        "name": "ipython",
        "version": 3
      },
      "file_extension": ".py",
      "mimetype": "text/x-python",
      "name": "python",
      "nbconvert_exporter": "python",
      "pygments_lexer": "ipython3",
      "version": "3.9.18"
    }
  },
  "nbformat": 4,
  "nbformat_minor": 0
}
